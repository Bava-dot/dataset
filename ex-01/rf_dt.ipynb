{
 "cells": [
  {
   "cell_type": "code",
   "execution_count": null,
   "metadata": {},
   "outputs": [],
   "source": [
    "import pandas as pd\n",
    "import numpy as np\n",
    "import matplotlib.pyplot as plt\n",
    "from sklearn.model_selection import train_test_split\n",
    "from sklearn.ensemble import RandomForestRegressor\n",
    "from sklearn.tree import DecisionTreeRegressor\n",
    "from sklearn.metrics import mean_absolute_error, mean_squared_error, r2_score\n",
    "\n",
    "file_path = 'housing.csv'\n",
    "data = pd.read_csv(file_path)\n",
    "\n",
    "data = data.drop(columns=['Address'])\n",
    "\n",
    "X = data.drop(columns=['Price'])\n",
    "y = data['Price']\n",
    "\n",
    "X_train, X_test, y_train, y_test = train_test_split(X, y, test_size=0.2, random_state=42)\n",
    "\n",
    "#decision tree\n",
    "dt_model = DecisionTreeRegressor(random_state=42)\n",
    "dt_model.fit(X_train, y_train)\n",
    "y_pred_dt = dt_model.predict(X_test)\n",
    "\n",
    "r2_dt = r2_score(y_test, y_pred_dt)\n",
    "\n",
    "#random forest\n",
    "rf_model = RandomForestRegressor(n_estimators=100, random_state=42)\n",
    "rf_model.fit(X_train, y_train)\n",
    "y_pred_rf = rf_model.predict(X_test)\n",
    "\n",
    "r2_rf = r2_score(y_test, y_pred_rf)\n",
    "\n",
    "print(\"Decision Tree Performance:\")\n",
    "print(f\"Mean Absolute Error: {mean_absolute_error(y_test, y_pred_dt):.2f}\")\n",
    "print(f\"Mean Squared Error: {mean_squared_error(y_test, y_pred_dt):.2f}\")\n",
    "print(f\"R2 Score: {r2_dt:.2f}\\n\")\n",
    "\n",
    "print(\"Random Forest Performance:\")\n",
    "print(f\"Mean Absolute Error: {mean_absolute_error(y_test, y_pred_rf):.2f}\")\n",
    "print(f\"Mean Squared Error: {mean_squared_error(y_test, y_pred_rf):.2f}\")\n",
    "print(f\"R2 Score: {r2_rf:.2f}\")\n",
    "\n",
    "\n",
    "models = ['Decision Tree', 'Random Forest']\n",
    "r2_scores = [r2_dt, r2_rf]\n",
    "\n",
    "plt.figure(figsize=(8, 5))\n",
    "plt.bar(models, r2_scores, color=['blue', 'green'])\n",
    "plt.title('Comparison of Accuracy (R2 Score) of Decision Tree and Random Forest')\n",
    "plt.xlabel('Model')\n",
    "plt.ylabel('R2 Score')\n",
    "plt.ylim(0, 1)\n",
    "plt.show()"
   ]
  },
  {
   "cell_type": "code",
   "execution_count": null,
   "metadata": {},
   "outputs": [],
   "source": [
    "# Function to predict house price\n",
    "def predict_price(model, input_features):\n",
    "    input_features = np.array(input_features).reshape(1, -1)\n",
    "    predicted_price = model.predict(input_features)\n",
    "    return predicted_price[0]\n",
    "\n",
    "input_features = [59982.19723,5.040554523,7.839387785,4.23,26354.10947]#dont add address column value\n",
    "\n",
    "predicted_price_dt = predict_price(dt_model, input_features)\n",
    "print(f\"Predicted House Price using Decision Tree: ${predicted_price_dt:,.2f}\")\n",
    "\n",
    "predicted_price_rf = predict_price(rf_model, input_features)\n",
    "print(f\"Predicted House Price using Random Forest: ${predicted_price_rf:,.2f}\")\n"
   ]
  }
 ],
 "metadata": {
  "kernelspec": {
   "display_name": "Python 3",
   "language": "python",
   "name": "python3"
  },
  "language_info": {
   "codemirror_mode": {
    "name": "ipython",
    "version": 3
   },
   "file_extension": ".py",
   "mimetype": "text/x-python",
   "name": "python",
   "nbconvert_exporter": "python",
   "pygments_lexer": "ipython3",
   "version": "3.11.9"
  }
 },
 "nbformat": 4,
 "nbformat_minor": 2
}
